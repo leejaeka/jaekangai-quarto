{
 "cells": [
  {
   "cell_type": "markdown",
   "id": "2638cb01",
   "metadata": {},
   "source": [
    "---\n",
    "title: \"Creating AI character - interactive two player prompt duel game 🤐\"\n",
    "author: \"Jaekang Lee\"\n",
    "date: \"2024-06-31\"\n",
    "categories: [llm, prompt_engineering, research, python]\n",
    "description: Teaching AI to keep a character vs gaslighting AI to break its character\n",
    "toc: true\n",
    "execute:\n",
    "    echo: false\n",
    "    warning: false\n",
    "---"
   ]
  },
  {
   "cell_type": "markdown",
   "id": "13d4d374",
   "metadata": {},
   "source": []
  },
  {
   "cell_type": "code",
   "execution_count": 43,
   "id": "55f6a9f7",
   "metadata": {},
   "outputs": [
    {
     "name": "stdout",
     "output_type": "stream",
     "text": [
      "bac09550d21e4536b3aef7006af9d1bb\n",
      "Sending a test completion job\n"
     ]
    }
   ],
   "source": [
    "from dotenv import load_dotenv\n",
    "import os\n",
    "\n",
    "\n",
    "api_key=os.getenv(\"OPENAI_API_KEY\")\n",
    "import os\n",
    "from openai import AzureOpenAI\n",
    "print(api_key)\n",
    "\n",
    "#api_key = \"bac09550d21e4536b3aef7006af9d1bb\"\n",
    "#api_key = os.environ['OPENAI_API_KEY']\n",
    "azure_endpoint = \"https://azure-open-ai-common-infra.openai.azure.com/\"\n",
    "api_version = \"2023-07-01-preview\"\n",
    "deployment_name='ailab-llm' \n",
    "\n",
    "client = AzureOpenAI(\n",
    "        api_key=api_key,  \n",
    "        api_version=api_version,\n",
    "        azure_endpoint = azure_endpoint\n",
    "    )\n",
    "    \n",
    "\n",
    "    \n",
    "# Send a completion call to generate an answer\n",
    "print('Sending a test completion job')\n",
    "start_phrase = 'Write a tagline for an ice cream shop. '\n",
    "response = client.chat.completions.create(\n",
    "    model=deployment_name,\n",
    "                messages=[\n",
    "                    {\"role\": \"system\", \"content\": f\"You are an AI assistant. Respond to the user's message\"}], max_tokens=10)\n",
    "    "
   ]
  },
  {
   "cell_type": "code",
   "execution_count": 36,
   "id": "0d309420",
   "metadata": {},
   "outputs": [
    {
     "data": {
      "application/vnd.jupyter.widget-view+json": {
       "model_id": "7935efc3e73d4b4289e30798f80fa79d",
       "version_major": 2,
       "version_minor": 0
      },
      "text/plain": [
       "Text(value='', description='Taboo Word:')"
      ]
     },
     "metadata": {},
     "output_type": "display_data"
    },
    {
     "data": {
      "application/vnd.jupyter.widget-view+json": {
       "model_id": "31d419a5b066493ebeac1c2617c7045d",
       "version_major": 2,
       "version_minor": 0
      },
      "text/plain": [
       "Textarea(value='', description='Prompt:', rows=3)"
      ]
     },
     "metadata": {},
     "output_type": "display_data"
    },
    {
     "data": {
      "application/vnd.jupyter.widget-view+json": {
       "model_id": "1826dfd5c72949c4b6e31ac26d9b7e8e",
       "version_major": 2,
       "version_minor": 0
      },
      "text/plain": [
       "Button(description='Submit', style=ButtonStyle())"
      ]
     },
     "metadata": {},
     "output_type": "display_data"
    },
    {
     "data": {
      "application/vnd.jupyter.widget-view+json": {
       "model_id": "1bb4d288d2a0464f9b470e114dc90c1b",
       "version_major": 2,
       "version_minor": 0
      },
      "text/plain": [
       "Output()"
      ]
     },
     "metadata": {},
     "output_type": "display_data"
    }
   ],
   "source": [
    "import os\n",
    "from openai import AzureOpenAI\n",
    "\n",
    "import ipywidgets as widgets\n",
    "from IPython.display import display, clear_output\n",
    "\n",
    "class AIGame:\n",
    "    def __init__(self, api_key, azure_endpoint, api_version, deployment_name):\n",
    "        self.api_key = api_key\n",
    "        self.azure_endpoint = azure_endpoint\n",
    "        self.api_version = api_version\n",
    "        self.deployment_name = deployment_name\n",
    "        self.client = AzureOpenAI(api_key = self.api_key,  \n",
    "            api_version=self.api_version,\n",
    "            azure_endpoint = self.azure_endpoint)\n",
    "        self.taboo_word = \"\"\n",
    "        self.player1_prompt = \"\"\n",
    "        self.player2_prompt = \"\"\n",
    "        self.ai_response = \"\"\n",
    "        self.current_player = 1\n",
    "        self.game_over = False\n",
    "        \n",
    "        # Create widgets\n",
    "        self.word_input = widgets.Text(description=\"Taboo Word:\")\n",
    "        self.prompt_input = widgets.Textarea(description=\"Prompt:\", rows=3)\n",
    "        self.submit_button = widgets.Button(description=\"Submit\")\n",
    "        self.output = widgets.Output()\n",
    "        \n",
    "        # Set up button click event\n",
    "        self.submit_button.on_click(self.on_submit)\n",
    "        \n",
    "    def display_game(self):\n",
    "        display(self.word_input, self.prompt_input, self.submit_button, self.output)\n",
    "        \n",
    "    def on_submit(self, b):\n",
    "        with self.output:\n",
    "            clear_output()\n",
    "            if self.current_player == 1:\n",
    "                self.taboo_word = self.word_input.value.lower()\n",
    "                self.player1_prompt = self.prompt_input.value\n",
    "                print(f\"Player 1 has set the taboo word and created a prompt.\")\n",
    "                self.current_player = 2\n",
    "                self.word_input.disabled = True\n",
    "            elif self.current_player == 2:\n",
    "                self.player2_prompt = self.prompt_input.value\n",
    "                self.get_ai_response()\n",
    "                self.game_over = True\n",
    "                self.display_results()\n",
    "            \n",
    "            if not self.game_over:\n",
    "                print(f\"Player {self.current_player}'s turn.\")\n",
    "            \n",
    "            self.prompt_input.value = \"\"\n",
    "    \n",
    "    def get_ai_response(self):\n",
    "        try:\n",
    "            response = self.client.chat.completions.create(\n",
    "                model=self.deployment_name,\n",
    "                messages=[\n",
    "                    {\"role\": \"system\", \"content\": f\"You are an AI assistant. Respond to the user's message without using the word '{self.taboo_word}'.\"},\n",
    "                    {\"role\": \"user\", \"content\": self.player1_prompt},\n",
    "                    {\"role\": \"assistant\", \"content\": \"Understood, I'll respond without using that word.\"},\n",
    "                    {\"role\": \"user\", \"content\": self.player2_prompt}\n",
    "                ]\n",
    "            )\n",
    "            self.ai_response = response.choices[0].message.content\n",
    "        except Exception as e:\n",
    "            self.ai_response = f\"Error: {str(e)}\"\n",
    "        \n",
    "    def display_results(self):\n",
    "        print(\"Game Over!\")\n",
    "        print(f\"Taboo word: {self.taboo_word}\")\n",
    "        print(f\"Player 1's prompt: {self.player1_prompt}\")\n",
    "        print(f\"Player 2's prompt: {self.player2_prompt}\")\n",
    "        print(f\"AI response: {self.ai_response}\")\n",
    "        if self.taboo_word in self.ai_response.lower():\n",
    "            print(\"Player 2 wins! The AI used the taboo word.\")\n",
    "        else:\n",
    "            print(\"Player 1 wins! The AI did not use the taboo word.\")\n",
    "\n",
    "# Create and display the game\n",
    "api_key = \"bac09550d21e4536b3aef7006af9d1bb\"\n",
    "azure_endpoint = \"https://azure-open-ai-common-infra.openai.azure.com/\"\n",
    "api_version = \"2023-07-01-preview\"\n",
    "deployment_name='ailab-llm' \n",
    "\n",
    "game = AIGame(api_key, azure_endpoint, api_version, deployment_name)\n",
    "game.display_game()"
   ]
  },
  {
   "cell_type": "code",
   "execution_count": null,
   "id": "692bcf18",
   "metadata": {},
   "outputs": [],
   "source": []
  }
 ],
 "metadata": {
  "kernelspec": {
   "display_name": "Python 3",
   "language": "python",
   "name": "python3"
  },
  "language_info": {
   "codemirror_mode": {
    "name": "ipython",
    "version": 3
   },
   "file_extension": ".py",
   "mimetype": "text/x-python",
   "name": "python",
   "nbconvert_exporter": "python",
   "pygments_lexer": "ipython3",
   "version": "3.8.5"
  }
 },
 "nbformat": 4,
 "nbformat_minor": 5
}
