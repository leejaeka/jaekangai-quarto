{
 "cells": [
  {
   "cell_type": "markdown",
   "metadata": {},
   "source": [
    "# MOOC certificates 📜\n",
    "> certificates\n",
    "\n",
    "- toc: true\n",
    "- branch: master\n",
    "- badges: true\n",
    "- comments: true\n",
    "- author: Jaekang Lee\n",
    "- categories: [fastpages, jupyter,certificate]"
   ]
  },
  {
   "cell_type": "markdown",
   "metadata": {},
   "source": [
    "### Udacity\n",
    "- Data Scientist Nanodegree \n",
    "\n",
    "### Coursera\n",
    "- Generative Adversarial Networks (GANs) Specialization\n",
    "- Apply Generative Adversarial Networks (GANs)\n",
    "- Build Better Generative Adversarial Networks (GANs)\n",
    "- Build Basic Generative Adversarial Networks (GANs)\n",
    "- Standford Machine Learning (unofficial)\n",
    "- Convolutional Neural Networks\n",
    "- Sequence Models\n",
    "- Neural Networks and Deep Learning\n",
    "\n",
    "### Kaggle \n",
    "- Deep Learning\n",
    "- Feature Engineering\n",
    "- Intro to Machine Learning\n",
    "- Intermediate Machine Learning\n",
    "- Machine Learning Explainability\n",
    "- Natural Language Processing\n",
    "\n",
    "### Udemy\n",
    "- Tableau 20 Advanced Training: Master Tableau in Data Science\n",
    "- Tableau 2020 A-Z: Hands-On Tableau Training for Data Science\n",
    "- Scala and Spark for Big Data and Machine Learning"
   ]
  },
  {
   "cell_type": "markdown",
   "metadata": {},
   "source": [
    "<img src=\"images/certificates/Udacity-Data-Science-1.png\" style=\"width:1200px;height:720px;\">\n",
    "<img src=\"images/certificates/Coursera 5PW3353X3DC2-1.png\" style=\"width:1200px;height:720px;\">\n",
    "<img src=\"images/certificates/Coursera 4ZRSS2K7AWP3-1.png\" style=\"width:1200px;height:720px;\">\n",
    "<img src=\"images/certificates/Coursera 8C6M3K5EG8LE-1.png\" style=\"width:1200px;height:720px;\">\n",
    "<img src=\"images/certificates/Coursera 36T8ACY2KNAF-1.png\" style=\"width:1200px;height:720px;\">\n",
    "<img src=\"images/certificates/Coursera BABJ638388DH-1.png\" style=\"width:1200px;height:720px;\">\n",
    "<img src=\"images/certificates/Coursera Y4552VQA9S93-1.png\" style=\"width:1200px;height:720px;\">\n",
    "<img src=\"images/certificates/Lee Tolo - Deep Learning.png\" style=\"width:1200px;height:720px;\">\n",
    "<img src=\"images/certificates/Lee Tolo - Deep Learning.png\" style=\"width:1200px;height:720px;\">\n",
    "<img src=\"images/certificates/Lee Tolo - Feature Engineering.png\" style=\"width:1200px;height:720px;\">\n",
    "<img src=\"images/certificates/Lee Tolo - Intermediate Machine Learning.png\" style=\"width:1200px;height:720px;\">\n",
    "<img src=\"images/certificates/Lee Tolo - Intro to Machine Learning.png\" style=\"width:1200px;height:720px;\">\n",
    "<img src=\"images/certificates/Lee Tolo - Machine Learning Explainability.png\" style=\"width:1200px;height:720px;\">\n",
    "<img src=\"images/certificates/Lee Tolo - Natural Language Processing.png\" style=\"width:1200px;height:720px;\">\n",
    "<img src=\"images/certificates/UC-4b38009f-448a-4e22-8c73-e8565a13ba28.jpg\" style=\"width:1200px;height:720px;\">\n",
    "<img src=\"images/certificates/Udemy Tableau.jpg\" style=\"width:1200px;height:720px;\">\n",
    "<img src=\"images/certificates/udemy.jpg\" style=\"width:1200px;height:720px;\">\n",
    "<img src=\"images/certificates/InkedCertificate_LI.jpg\" style=\"width:1200px;height:720px;\">\n",
    "\n"
   ]
  },
  {
   "cell_type": "code",
   "execution_count": null,
   "metadata": {},
   "outputs": [],
   "source": []
  }
 ],
 "metadata": {
  "kernelspec": {
   "display_name": "Python 3",
   "language": "python",
   "name": "python3"
  },
  "language_info": {
   "codemirror_mode": {
    "name": "ipython",
    "version": 3
   },
   "file_extension": ".py",
   "mimetype": "text/x-python",
   "name": "python",
   "nbconvert_exporter": "python",
   "pygments_lexer": "ipython3",
   "version": "3.8.5"
  }
 },
 "nbformat": 4,
 "nbformat_minor": 4
}
